{
 "cells": [
  {
   "cell_type": "code",
   "execution_count": 2,
   "id": "bbad6118",
   "metadata": {},
   "outputs": [
    {
     "name": "stdout",
     "output_type": "stream",
     "text": [
      "Hello world!\n"
     ]
    }
   ],
   "source": [
    "print(\"Hello world!\")"
   ]
  },
  {
   "cell_type": "markdown",
   "id": "f90bcff5",
   "metadata": {},
   "source": [
    "# 测试三级标题\n",
    "\n",
    "\n",
    "### ceshi\n",
    "\n",
    "- 是这样吗？\n",
    "1. 是的\n",
    "2. 不是"
   ]
  },
  {
   "cell_type": "markdown",
   "id": "23301419",
   "metadata": {},
   "source": [
    "### 为什么上边不变化格式"
   ]
  },
  {
   "cell_type": "code",
   "execution_count": 3,
   "id": "1874680b",
   "metadata": {},
   "outputs": [
    {
     "name": "stdout",
     "output_type": "stream",
     "text": [
      "python\n"
     ]
    }
   ],
   "source": [
    "print('python')"
   ]
  },
  {
   "cell_type": "code",
   "execution_count": null,
   "id": "d3ee6f0b",
   "metadata": {},
   "outputs": [],
   "source": []
  }
 ],
 "metadata": {
  "kernelspec": {
   "display_name": "Python 3 (ipykernel)",
   "language": "python",
   "name": "python3"
  },
  "language_info": {
   "codemirror_mode": {
    "name": "ipython",
    "version": 3
   },
   "file_extension": ".py",
   "mimetype": "text/x-python",
   "name": "python",
   "nbconvert_exporter": "python",
   "pygments_lexer": "ipython3",
   "version": "3.11.4"
  }
 },
 "nbformat": 4,
 "nbformat_minor": 5
}
