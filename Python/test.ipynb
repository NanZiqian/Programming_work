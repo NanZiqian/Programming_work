{
 "cells": [
  {
   "cell_type": "code",
   "execution_count": 2,
   "id": "692b7e8c",
   "metadata": {},
   "outputs": [
    {
     "name": "stdout",
     "output_type": "stream",
     "text": [
      "Hello world!\n"
     ]
    }
   ],
   "source": [
    "print(\"Hello world!\")"
   ]
  },
  {
   "cell_type": "markdown",
   "id": "5ab3532a",
   "metadata": {},
   "source": [
    "# 测试三级标题\n",
    "\n",
    "\n",
    "### ceshi\n",
    "\n",
    "- 是这样吗？\n",
    "1. 是的\n",
    "2. 不是"
   ]
  },
  {
   "cell_type": "markdown",
   "id": "abc31a8c",
   "metadata": {},
   "source": [
    "### 为什么上边不变化格式"
   ]
  },
  {
   "cell_type": "code",
   "execution_count": 12,
   "id": "5c20243a",
   "metadata": {},
   "outputs": [
    {
     "name": "stdout",
     "output_type": "stream",
     "text": [
      "roadman\n",
      "nomad\n"
     ]
    }
   ],
   "source": [
    "num = 5     \n",
    "if num == 3:            # 判断num的值\n",
    "    print ('boss')        \n",
    "elif num == 2:\n",
    "    print ('user')\n",
    "elif num == 1:\n",
    "    print ('worker')\n",
    "elif num < 0:           # 值小于零时输出\n",
    "    print ('error')\n",
    "else:\n",
    "    print ('roadman')\n",
    "    print('nomad')# 条件均不成立时输出"
   ]
  },
  {
   "cell_type": "code",
   "execution_count": 53,
   "id": "b96e0843",
   "metadata": {},
   "outputs": [
    {
     "data": {
      "text/plain": [
       "5"
      ]
     },
     "execution_count": 53,
     "metadata": {},
     "output_type": "execute_result"
    }
   ],
   "source": [
    "sum = lambda arg1, arg2: arg1\n",
    "sum(5,6)"
   ]
  },
  {
   "cell_type": "code",
   "execution_count": 55,
   "id": "287887f6",
   "metadata": {},
   "outputs": [
    {
     "name": "stdout",
     "output_type": "stream",
     "text": [
      "Writing main.py\n"
     ]
    }
   ],
   "source": [
    "%%writefile main.py\n",
    "\n",
    "number = 123\n",
    "def max(a,b):\n",
    "    if a>b:\n",
    "        return a\n",
    "    else:\n",
    "        return b\n",
    "    "
   ]
  },
  {
   "cell_type": "code",
   "execution_count": 56,
   "id": "e08eeecb",
   "metadata": {},
   "outputs": [],
   "source": [
    "%run main.py"
   ]
  },
  {
   "cell_type": "code",
   "execution_count": 57,
   "id": "2587d236",
   "metadata": {},
   "outputs": [
    {
     "data": {
      "text/plain": [
       "123"
      ]
     },
     "execution_count": 57,
     "metadata": {},
     "output_type": "execute_result"
    }
   ],
   "source": [
    "number\n"
   ]
  },
  {
   "cell_type": "code",
   "execution_count": 58,
   "id": "55fc499f",
   "metadata": {},
   "outputs": [
    {
     "data": {
      "text/plain": [
       "124"
      ]
     },
     "execution_count": 58,
     "metadata": {},
     "output_type": "execute_result"
    }
   ],
   "source": [
    "max(124,number)"
   ]
  },
  {
   "cell_type": "code",
   "execution_count": 59,
   "id": "c2ca245a",
   "metadata": {},
   "outputs": [],
   "source": [
    "import main as m"
   ]
  },
  {
   "cell_type": "code",
   "execution_count": 2,
   "id": "e12a8b46",
   "metadata": {},
   "outputs": [],
   "source": [
    "from main import *"
   ]
  },
  {
   "cell_type": "code",
   "execution_count": 7,
   "id": "0558ff15",
   "metadata": {},
   "outputs": [],
   "source": [
    "import math"
   ]
  },
  {
   "cell_type": "code",
   "execution_count": 21,
   "id": "72734ca2",
   "metadata": {},
   "outputs": [
    {
     "name": "stdout",
     "output_type": "stream",
     "text": [
      "本地时间为 : Sat Jul 22 11:13:14 2023\n"
     ]
    }
   ],
   "source": [
    "localtime = time.asctime( time.localtime(time.time()) )\n",
    "print (\"本地时间为 :\", localtime)"
   ]
  },
  {
   "cell_type": "code",
   "execution_count": 12,
   "id": "21a75f01",
   "metadata": {},
   "outputs": [
    {
     "data": {
      "text/plain": [
       "'一个简单的类实例'"
      ]
     },
     "execution_count": 12,
     "metadata": {},
     "output_type": "execute_result"
    }
   ],
   "source": [
    "x.__doc__"
   ]
  },
  {
   "cell_type": "code",
   "execution_count": null,
   "id": "ecfdf715",
   "metadata": {},
   "outputs": [],
   "source": []
  }
 ],
 "metadata": {
  "kernelspec": {
   "display_name": "Python 3 (ipykernel)",
   "language": "python",
   "name": "python3"
  },
  "language_info": {
   "codemirror_mode": {
    "name": "ipython",
    "version": 3
   },
   "file_extension": ".py",
   "mimetype": "text/x-python",
   "name": "python",
   "nbconvert_exporter": "python",
   "pygments_lexer": "ipython3",
   "version": "3.11.4"
  }
 },
 "nbformat": 4,
 "nbformat_minor": 5
}
